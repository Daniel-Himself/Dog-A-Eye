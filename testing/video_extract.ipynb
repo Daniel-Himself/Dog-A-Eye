{
 "cells": [
  {
   "cell_type": "code",
   "execution_count": 44,
   "metadata": {},
   "outputs": [],
   "source": [
    "from pandas import DataFrame\n",
    "import cv2 as cv2, matplotlib.pyplot as plt\n",
    "import os\n",
    "import shutil\n",
    "from PIL import Image\n",
    "import ipywidgets as wg\n",
    "from tqdm.auto import tqdm"
   ]
  },
  {
   "attachments": {},
   "cell_type": "markdown",
   "metadata": {},
   "source": [
    "Video Data Sources:\n",
    "- [Dog Head Tilt videos](https://drive.google.com/drive/folders/0AJSIynnO4SFxUk9PVA)\n",
    "- [Am Oved Labrador videos](https://drive.google.com/drive/folders/1xz7XtEneiurCfpZ_xvye-iX1JnOXQdPg)"
   ]
  },
  {
   "cell_type": "code",
   "execution_count": 40,
   "metadata": {},
   "outputs": [],
   "source": [
    "def extract_video(path, frame_rate: int = None):\n",
    "    splits = path.split('/')\n",
    "    dir = f\"{'/'.join(splits[:-1])}/{splits[-1].replace('.mp4', '')}\"\n",
    "    if os.path.exists(dir):\n",
    "        shutil.rmtree(dir)\n",
    "    os.makedirs(dir, exist_ok=True)\n",
    "    cap = cv2.VideoCapture(path)   # /dev/video0\n",
    "    # cap = cv2.open(path, capture_frames=True)   # /dev/video0\n",
    "    # cv2.startWindowThread()\n",
    "    frames = []\n",
    "    if not cap.isOpened():\n",
    "        return frames\n",
    "    while True:\n",
    "        ret, frame = cap.read()\n",
    "        if not ret:\n",
    "            break\n",
    "        frames += [frame]\n",
    "    cap.release()\n",
    "    if frame_rate:\n",
    "        frames = [frame for i, frame in enumerate(frames) if i % frame_rate == 0] \n",
    "        # cv2.waitKey(1)\n",
    "    for idx,frame in enumerate(frames):\n",
    "        i = idx if frame_rate is None else idx * frame_rate\n",
    "        cv2.imwrite(f\"{dir}/frame_{i}.jpg\",frame)\n",
    "    # print('video loaded, capture released', end='')\n",
    "    # cv2.destroyAllWindows()\n",
    "    # print(', windows destroyed')"
   ]
  },
  {
   "cell_type": "code",
   "execution_count": 41,
   "metadata": {},
   "outputs": [],
   "source": [
    "def show_frame(stream, frame_number):\n",
    "    plt.figure(figsize=(15,15))\n",
    "    plt.imshow(stream[frame_number])\n",
    "    plt.show()"
   ]
  },
  {
   "cell_type": "code",
   "execution_count": 42,
   "metadata": {},
   "outputs": [],
   "source": [
    "# def drop_framerate(stream, new_framerate):\n",
    "#     return [frame for i,frame in enumerate(stream) if i % new_framerate == 0]"
   ]
  },
  {
   "cell_type": "code",
   "execution_count": 45,
   "metadata": {},
   "outputs": [],
   "source": [
    "extract_video(path='../resources/cats_and_dogs/video/food_whistle/yoga-f.mp4', frame_rate=10)"
   ]
  },
  {
   "cell_type": "code",
   "execution_count": 18,
   "metadata": {},
   "outputs": [
    {
     "data": {
      "text/plain": [
       "['../resources/cats_and_dogs/video/food_whistle/p.alin.mp4',\n",
       " '../resources/cats_and_dogs/video/food_whistle/p.olive.mp4',\n",
       " '../resources/cats_and_dogs/video/food_whistle/p.grace.mp4',\n",
       " '../resources/cats_and_dogs/video/food_whistle/p.fred.mp4',\n",
       " '../resources/cats_and_dogs/video/food_whistle/p.willie.mp4',\n",
       " '../resources/cats_and_dogs/video/food_whistle/p.yali.mp4',\n",
       " '../resources/cats_and_dogs/video/food_whistle/p.amigo.mp4',\n",
       " '../resources/cats_and_dogs/video/food_whistle/p.teddy.mp4',\n",
       " '../resources/cats_and_dogs/video/food_whistle/p.hulio.mp4',\n",
       " '../resources/cats_and_dogs/video/food_whistle/p.amy.mp4',\n",
       " '../resources/cats_and_dogs/video/food_whistle/p.anis.mp4',\n",
       " '../resources/cats_and_dogs/video/food_whistle/p.lily.mp4',\n",
       " '../resources/cats_and_dogs/video/food_whistle/p.conor.mp4',\n",
       " '../resources/cats_and_dogs/video/food_whistle/p.jorge.mp4',\n",
       " '../resources/cats_and_dogs/video/food_whistle/p.atlas.mp4',\n",
       " '../resources/cats_and_dogs/video/food_whistle/p.lizka.mp4',\n",
       " '../resources/cats_and_dogs/video/food_whistle/p.oslo.mp4',\n",
       " '../resources/cats_and_dogs/video/food_whistle/p.bradley.mp4',\n",
       " '../resources/cats_and_dogs/video/food_whistle/p-bradley.mp4',\n",
       " '../resources/cats_and_dogs/video/food_whistle/pako-f.mp4',\n",
       " '../resources/cats_and_dogs/video/food_whistle/p.russel.mp4',\n",
       " '../resources/cats_and_dogs/video/food_whistle/wiliam-f.mp4',\n",
       " '../resources/cats_and_dogs/video/food_whistle/piter-f.mp4',\n",
       " '../resources/cats_and_dogs/video/food_whistle/fifa-f.mp4',\n",
       " '../resources/cats_and_dogs/video/food_whistle/p-bingo.mp4',\n",
       " '../resources/cats_and_dogs/video/food_whistle/viva-f.mp4',\n",
       " '../resources/cats_and_dogs/video/food_whistle/P.jason.mp4',\n",
       " '../resources/cats_and_dogs/video/food_whistle/sweety-f.mp4',\n",
       " '../resources/cats_and_dogs/video/food_whistle/p-yodi.mp4',\n",
       " '../resources/cats_and_dogs/video/food_whistle/gino-f.mp4',\n",
       " '../resources/cats_and_dogs/video/food_whistle/yanni-f.mp4',\n",
       " '../resources/cats_and_dogs/video/food_whistle/p-russel.mp4',\n",
       " '../resources/cats_and_dogs/video/food_whistle/appolo-f.mp4',\n",
       " '../resources/cats_and_dogs/video/food_whistle/arlene-f.mp4',\n",
       " '../resources/cats_and_dogs/video/food_whistle/lazy-f.mp4',\n",
       " '../resources/cats_and_dogs/video/food_whistle/jack-f.mp4',\n",
       " '../resources/cats_and_dogs/video/food_whistle/fairy-f.mp4',\n",
       " '../resources/cats_and_dogs/video/food_whistle/sue-f.mp4',\n",
       " '../resources/cats_and_dogs/video/food_whistle/like-f.mp4',\n",
       " '../resources/cats_and_dogs/video/food_whistle/wilson-f.mp4',\n",
       " '../resources/cats_and_dogs/video/food_whistle/harry-f.mp4',\n",
       " '../resources/cats_and_dogs/video/food_whistle/casper-f.mp4',\n",
       " '../resources/cats_and_dogs/video/food_whistle/riley-f.mp4',\n",
       " '../resources/cats_and_dogs/video/food_whistle/shiba-f.mp4',\n",
       " '../resources/cats_and_dogs/video/food_whistle/yoga-f.mp4',\n",
       " '../resources/cats_and_dogs/video/food_whistle/sheilo-f.mp4',\n",
       " '../resources/cats_and_dogs/video/food_whistle/chanelle-f.mp4',\n",
       " '../resources/cats_and_dogs/video/food_whistle/conor-f.mp4',\n",
       " '../resources/cats_and_dogs/video/food_whistle/ross-f.mp4',\n",
       " '../resources/cats_and_dogs/video/food_whistle/York-f.mp4',\n",
       " '../resources/cats_and_dogs/video/food_whistle/luise-f.mp4',\n",
       " '../resources/cats_and_dogs/video/food_whistle/caiser-f.mp4',\n",
       " '../resources/cats_and_dogs/video/food_whistle/rokbi-f.mp4',\n",
       " '../resources/cats_and_dogs/video/food_whistle/fay-f.mp4',\n",
       " '../resources/cats_and_dogs/video/food_whistle/kiwi-f.mp4',\n",
       " '../resources/cats_and_dogs/video/food_whistle/raffles-f.mp4',\n",
       " '../resources/cats_and_dogs/video/food_whistle/Quiz-f.mp4',\n",
       " '../resources/cats_and_dogs/video/food_whistle/rider-f.mp4',\n",
       " '../resources/cats_and_dogs/video/food_whistle/netty-f.mp4',\n",
       " '../resources/cats_and_dogs/video/food_whistle/choice-f.mp4',\n",
       " '../resources/cats_and_dogs/video/food_whistle/sherlot-f.mp4',\n",
       " '../resources/cats_and_dogs/video/food_whistle/Lin-f.mp4',\n",
       " '../resources/cats_and_dogs/video/food_whistle/Mike-f.mp4',\n",
       " '../resources/cats_and_dogs/video/food_whistle/polly-f.mp4',\n",
       " '../resources/cats_and_dogs/video/food_whistle/isabelle-f.mp4',\n",
       " '../resources/cats_and_dogs/video/food_whistle/Panda-f.mp4',\n",
       " '../resources/cats_and_dogs/video/food_whistle/peter-f.mp4',\n",
       " '../resources/cats_and_dogs/video/food_whistle/yago-f.mp4',\n",
       " '../resources/cats_and_dogs/video/food_whistle/chance-f.mp4']"
      ]
     },
     "execution_count": 18,
     "metadata": {},
     "output_type": "execute_result"
    }
   ],
   "source": [
    "from os import walk, path\n",
    "videos = []\n",
    "for root, dirs, files in walk('../resources/cats_and_dogs/video/food_whistle'):\n",
    "# for root, dirs, files in walk('../resources/cats_and_dogs/video'):\n",
    "    for file in files:\n",
    "        if file.endswith('.mp4'):\n",
    "            videos += [path.join(root, file)]\n",
    "videos"
   ]
  },
  {
   "cell_type": "code",
   "execution_count": 46,
   "metadata": {},
   "outputs": [],
   "source": [
    "rates = {\n",
    "    'COARSE' : 10,\n",
    "    'DECEANT' : 5,\n",
    "    'FINE' : 2\n",
    "}\n",
    "\n",
    "for root, _, files in os.walk('../resources/cats_and_dogs/video/'):\n",
    "    for file in files:\n",
    "        if file.endswith('.mp4'):\n",
    "            extract_video(os.path.join(root, file), rates['COARSE'])"
   ]
  },
  {
   "cell_type": "code",
   "execution_count": 20,
   "metadata": {},
   "outputs": [],
   "source": [
    "# video_streams = DataFrame({\n",
    "#     'stream': [\n",
    "#         drop_framerate(load_video(path=video), 5) \n",
    "#         for video in tqdm(videos)\n",
    "#     ]})\n",
    "# video_streams.info()"
   ]
  },
  {
   "cell_type": "code",
   "execution_count": 21,
   "metadata": {},
   "outputs": [
    {
     "ename": "TraitError",
     "evalue": "setting max < min",
     "output_type": "error",
     "traceback": [
      "\u001b[0;31m---------------------------------------------------------------------------\u001b[0m",
      "\u001b[0;31mTraitError\u001b[0m                                Traceback (most recent call last)",
      "\u001b[1;32m/home/eddie/Programming/Pet-I/testing/video_extract.ipynb Cell 10\u001b[0m in \u001b[0;36m<cell line: 1>\u001b[0;34m()\u001b[0m\n\u001b[0;32m----> <a href='vscode-notebook-cell:/home/eddie/Programming/Pet-I/testing/video_extract.ipynb#X12sZmlsZQ%3D%3D?line=0'>1</a>\u001b[0m wg\u001b[39m.\u001b[39minteract(show_frame, stream\u001b[39m=\u001b[39mwg\u001b[39m.\u001b[39mfixed(stream), frame_number\u001b[39m=\u001b[39mwg\u001b[39m.\u001b[39;49mIntSlider(\u001b[39mmin\u001b[39;49m\u001b[39m=\u001b[39;49m\u001b[39m0\u001b[39;49m, \u001b[39mmax\u001b[39;49m\u001b[39m=\u001b[39;49m\u001b[39mlen\u001b[39;49m(stream)\u001b[39m-\u001b[39;49m\u001b[39m1\u001b[39;49m))\n",
      "File \u001b[0;32m~/miniconda3/envs/DogVision/lib/python3.10/site-packages/ipywidgets/widgets/widget_int.py:61\u001b[0m, in \u001b[0;36m_bounded_int_doc.<locals>.__init__\u001b[0;34m(self, value, min, max, step, **kwargs)\u001b[0m\n\u001b[1;32m     59\u001b[0m \u001b[39mif\u001b[39;00m step \u001b[39mis\u001b[39;00m \u001b[39mnot\u001b[39;00m \u001b[39mNone\u001b[39;00m:\n\u001b[1;32m     60\u001b[0m     kwargs[\u001b[39m'\u001b[39m\u001b[39mstep\u001b[39m\u001b[39m'\u001b[39m] \u001b[39m=\u001b[39m step\n\u001b[0;32m---> 61\u001b[0m \u001b[39msuper\u001b[39;49m(\u001b[39mcls\u001b[39;49m, \u001b[39mself\u001b[39;49m)\u001b[39m.\u001b[39;49m\u001b[39m__init__\u001b[39;49m(\u001b[39m*\u001b[39;49m\u001b[39m*\u001b[39;49mkwargs)\n",
      "File \u001b[0;32m~/miniconda3/envs/DogVision/lib/python3.10/site-packages/ipywidgets/widgets/widget_int.py:93\u001b[0m, in \u001b[0;36m_BoundedInt.__init__\u001b[0;34m(self, value, min, max, step, **kwargs)\u001b[0m\n\u001b[1;32m     91\u001b[0m \u001b[39mif\u001b[39;00m step \u001b[39mis\u001b[39;00m \u001b[39mnot\u001b[39;00m \u001b[39mNone\u001b[39;00m:\n\u001b[1;32m     92\u001b[0m     kwargs[\u001b[39m'\u001b[39m\u001b[39mstep\u001b[39m\u001b[39m'\u001b[39m] \u001b[39m=\u001b[39m step\n\u001b[0;32m---> 93\u001b[0m \u001b[39msuper\u001b[39;49m(_BoundedInt, \u001b[39mself\u001b[39;49m)\u001b[39m.\u001b[39;49m\u001b[39m__init__\u001b[39;49m(\u001b[39m*\u001b[39;49m\u001b[39m*\u001b[39;49mkwargs)\n",
      "File \u001b[0;32m~/miniconda3/envs/DogVision/lib/python3.10/site-packages/ipywidgets/widgets/widget_int.py:75\u001b[0m, in \u001b[0;36m_Int.__init__\u001b[0;34m(self, value, **kwargs)\u001b[0m\n\u001b[1;32m     73\u001b[0m \u001b[39mif\u001b[39;00m value \u001b[39mis\u001b[39;00m \u001b[39mnot\u001b[39;00m \u001b[39mNone\u001b[39;00m:\n\u001b[1;32m     74\u001b[0m     kwargs[\u001b[39m'\u001b[39m\u001b[39mvalue\u001b[39m\u001b[39m'\u001b[39m] \u001b[39m=\u001b[39m value\n\u001b[0;32m---> 75\u001b[0m \u001b[39msuper\u001b[39;49m(_Int, \u001b[39mself\u001b[39;49m)\u001b[39m.\u001b[39;49m\u001b[39m__init__\u001b[39;49m(\u001b[39m*\u001b[39;49m\u001b[39m*\u001b[39;49mkwargs)\n",
      "File \u001b[0;32m~/miniconda3/envs/DogVision/lib/python3.10/site-packages/ipywidgets/widgets/widget.py:477\u001b[0m, in \u001b[0;36mWidget.__init__\u001b[0;34m(self, **kwargs)\u001b[0m\n\u001b[1;32m    475\u001b[0m \u001b[39m\"\"\"Public constructor\"\"\"\u001b[39;00m\n\u001b[1;32m    476\u001b[0m \u001b[39mself\u001b[39m\u001b[39m.\u001b[39m_model_id \u001b[39m=\u001b[39m kwargs\u001b[39m.\u001b[39mpop(\u001b[39m'\u001b[39m\u001b[39mmodel_id\u001b[39m\u001b[39m'\u001b[39m, \u001b[39mNone\u001b[39;00m)\n\u001b[0;32m--> 477\u001b[0m \u001b[39msuper\u001b[39;49m(Widget, \u001b[39mself\u001b[39;49m)\u001b[39m.\u001b[39;49m\u001b[39m__init__\u001b[39;49m(\u001b[39m*\u001b[39;49m\u001b[39m*\u001b[39;49mkwargs)\n\u001b[1;32m    479\u001b[0m Widget\u001b[39m.\u001b[39m_call_widget_constructed(\u001b[39mself\u001b[39m)\n\u001b[1;32m    480\u001b[0m \u001b[39mself\u001b[39m\u001b[39m.\u001b[39mopen()\n",
      "File \u001b[0;32m~/.local/lib/python3.10/site-packages/traitlets/traitlets.py:1232\u001b[0m, in \u001b[0;36mHasTraits.__init__\u001b[0;34m(self, *args, **kwargs)\u001b[0m\n\u001b[1;32m   1230\u001b[0m super_args \u001b[39m=\u001b[39m args\n\u001b[1;32m   1231\u001b[0m super_kwargs \u001b[39m=\u001b[39m {}\n\u001b[0;32m-> 1232\u001b[0m \u001b[39mwith\u001b[39;00m \u001b[39mself\u001b[39m\u001b[39m.\u001b[39mhold_trait_notifications():\n\u001b[1;32m   1233\u001b[0m     \u001b[39mfor\u001b[39;00m key, value \u001b[39min\u001b[39;00m kwargs\u001b[39m.\u001b[39mitems():\n\u001b[1;32m   1234\u001b[0m         \u001b[39mif\u001b[39;00m \u001b[39mself\u001b[39m\u001b[39m.\u001b[39mhas_trait(key):\n",
      "File \u001b[0;32m~/miniconda3/envs/DogVision/lib/python3.10/contextlib.py:142\u001b[0m, in \u001b[0;36m_GeneratorContextManager.__exit__\u001b[0;34m(self, typ, value, traceback)\u001b[0m\n\u001b[1;32m    140\u001b[0m \u001b[39mif\u001b[39;00m typ \u001b[39mis\u001b[39;00m \u001b[39mNone\u001b[39;00m:\n\u001b[1;32m    141\u001b[0m     \u001b[39mtry\u001b[39;00m:\n\u001b[0;32m--> 142\u001b[0m         \u001b[39mnext\u001b[39;49m(\u001b[39mself\u001b[39;49m\u001b[39m.\u001b[39;49mgen)\n\u001b[1;32m    143\u001b[0m     \u001b[39mexcept\u001b[39;00m \u001b[39mStopIteration\u001b[39;00m:\n\u001b[1;32m    144\u001b[0m         \u001b[39mreturn\u001b[39;00m \u001b[39mFalse\u001b[39;00m\n",
      "File \u001b[0;32m~/.local/lib/python3.10/site-packages/traitlets/traitlets.py:1362\u001b[0m, in \u001b[0;36mHasTraits.hold_trait_notifications\u001b[0;34m(self)\u001b[0m\n\u001b[1;32m   1360\u001b[0m                     \u001b[39mself\u001b[39m\u001b[39m.\u001b[39m_trait_values\u001b[39m.\u001b[39mpop(name)\n\u001b[1;32m   1361\u001b[0m     cache \u001b[39m=\u001b[39m {}\n\u001b[0;32m-> 1362\u001b[0m     \u001b[39mraise\u001b[39;00m e\n\u001b[1;32m   1363\u001b[0m \u001b[39mfinally\u001b[39;00m:\n\u001b[1;32m   1364\u001b[0m     \u001b[39mself\u001b[39m\u001b[39m.\u001b[39m_cross_validation_lock \u001b[39m=\u001b[39m \u001b[39mFalse\u001b[39;00m\n",
      "File \u001b[0;32m~/.local/lib/python3.10/site-packages/traitlets/traitlets.py:1348\u001b[0m, in \u001b[0;36mHasTraits.hold_trait_notifications\u001b[0;34m(self)\u001b[0m\n\u001b[1;32m   1346\u001b[0m     \u001b[39mfor\u001b[39;00m name \u001b[39min\u001b[39;00m \u001b[39mlist\u001b[39m(cache\u001b[39m.\u001b[39mkeys()):\n\u001b[1;32m   1347\u001b[0m         trait \u001b[39m=\u001b[39m \u001b[39mgetattr\u001b[39m(\u001b[39mself\u001b[39m\u001b[39m.\u001b[39m\u001b[39m__class__\u001b[39m, name)\n\u001b[0;32m-> 1348\u001b[0m         value \u001b[39m=\u001b[39m trait\u001b[39m.\u001b[39;49m_cross_validate(\u001b[39mself\u001b[39;49m, \u001b[39mgetattr\u001b[39;49m(\u001b[39mself\u001b[39;49m, name))\n\u001b[1;32m   1349\u001b[0m         \u001b[39mself\u001b[39m\u001b[39m.\u001b[39mset_trait(name, value)\n\u001b[1;32m   1350\u001b[0m \u001b[39mexcept\u001b[39;00m TraitError \u001b[39mas\u001b[39;00m e:\n\u001b[1;32m   1351\u001b[0m     \u001b[39m# Roll back in case of TraitError during final cross validation.\u001b[39;00m\n",
      "File \u001b[0;32m~/.local/lib/python3.10/site-packages/traitlets/traitlets.py:729\u001b[0m, in \u001b[0;36mTraitType._cross_validate\u001b[0;34m(self, obj, value)\u001b[0m\n\u001b[1;32m    727\u001b[0m \u001b[39mif\u001b[39;00m \u001b[39mself\u001b[39m\u001b[39m.\u001b[39mname \u001b[39min\u001b[39;00m obj\u001b[39m.\u001b[39m_trait_validators:\n\u001b[1;32m    728\u001b[0m     proposal \u001b[39m=\u001b[39m Bunch({\u001b[39m\"\u001b[39m\u001b[39mtrait\u001b[39m\u001b[39m\"\u001b[39m: \u001b[39mself\u001b[39m, \u001b[39m\"\u001b[39m\u001b[39mvalue\u001b[39m\u001b[39m\"\u001b[39m: value, \u001b[39m\"\u001b[39m\u001b[39mowner\u001b[39m\u001b[39m\"\u001b[39m: obj})\n\u001b[0;32m--> 729\u001b[0m     value \u001b[39m=\u001b[39m obj\u001b[39m.\u001b[39;49m_trait_validators[\u001b[39mself\u001b[39;49m\u001b[39m.\u001b[39;49mname](obj, proposal)\n\u001b[1;32m    730\u001b[0m \u001b[39melif\u001b[39;00m \u001b[39mhasattr\u001b[39m(obj, \u001b[39m\"\u001b[39m\u001b[39m_\u001b[39m\u001b[39m%s\u001b[39;00m\u001b[39m_validate\u001b[39m\u001b[39m\"\u001b[39m \u001b[39m%\u001b[39m \u001b[39mself\u001b[39m\u001b[39m.\u001b[39mname):\n\u001b[1;32m    731\u001b[0m     meth_name \u001b[39m=\u001b[39m \u001b[39m\"\u001b[39m\u001b[39m_\u001b[39m\u001b[39m%s\u001b[39;00m\u001b[39m_validate\u001b[39m\u001b[39m\"\u001b[39m \u001b[39m%\u001b[39m \u001b[39mself\u001b[39m\u001b[39m.\u001b[39mname\n",
      "File \u001b[0;32m~/.local/lib/python3.10/site-packages/traitlets/traitlets.py:1132\u001b[0m, in \u001b[0;36mEventHandler.__call__\u001b[0;34m(self, *args, **kwargs)\u001b[0m\n\u001b[1;32m   1130\u001b[0m \u001b[39m\"\"\"Pass `*args` and `**kwargs` to the handler's function if it exists.\"\"\"\u001b[39;00m\n\u001b[1;32m   1131\u001b[0m \u001b[39mif\u001b[39;00m \u001b[39mhasattr\u001b[39m(\u001b[39mself\u001b[39m, \u001b[39m\"\u001b[39m\u001b[39mfunc\u001b[39m\u001b[39m\"\u001b[39m):\n\u001b[0;32m-> 1132\u001b[0m     \u001b[39mreturn\u001b[39;00m \u001b[39mself\u001b[39;49m\u001b[39m.\u001b[39;49mfunc(\u001b[39m*\u001b[39;49margs, \u001b[39m*\u001b[39;49m\u001b[39m*\u001b[39;49mkwargs)\n\u001b[1;32m   1133\u001b[0m \u001b[39melse\u001b[39;00m:\n\u001b[1;32m   1134\u001b[0m     \u001b[39mreturn\u001b[39;00m \u001b[39mself\u001b[39m\u001b[39m.\u001b[39m_init_call(\u001b[39m*\u001b[39margs, \u001b[39m*\u001b[39m\u001b[39m*\u001b[39mkwargs)\n",
      "File \u001b[0;32m~/miniconda3/envs/DogVision/lib/python3.10/site-packages/ipywidgets/widgets/widget_int.py:118\u001b[0m, in \u001b[0;36m_BoundedInt._validate_max\u001b[0;34m(self, proposal)\u001b[0m\n\u001b[1;32m    116\u001b[0m \u001b[39mmax\u001b[39m \u001b[39m=\u001b[39m proposal[\u001b[39m'\u001b[39m\u001b[39mvalue\u001b[39m\u001b[39m'\u001b[39m]\n\u001b[1;32m    117\u001b[0m \u001b[39mif\u001b[39;00m \u001b[39mmax\u001b[39m \u001b[39m<\u001b[39m \u001b[39mself\u001b[39m\u001b[39m.\u001b[39mmin:\n\u001b[0;32m--> 118\u001b[0m     \u001b[39mraise\u001b[39;00m TraitError(\u001b[39m'\u001b[39m\u001b[39msetting max < min\u001b[39m\u001b[39m'\u001b[39m)\n\u001b[1;32m    119\u001b[0m \u001b[39mif\u001b[39;00m \u001b[39mmax\u001b[39m \u001b[39m<\u001b[39m \u001b[39mself\u001b[39m\u001b[39m.\u001b[39mvalue:\n\u001b[1;32m    120\u001b[0m     \u001b[39mself\u001b[39m\u001b[39m.\u001b[39mvalue \u001b[39m=\u001b[39m \u001b[39mmax\u001b[39m\n",
      "\u001b[0;31mTraitError\u001b[0m: setting max < min"
     ]
    }
   ],
   "source": [
    "wg.interact(show_frame, stream=wg.fixed(stream), frame_number=wg.IntSlider(min=0, max=len(stream)-1))"
   ]
  },
  {
   "cell_type": "code",
   "execution_count": null,
   "metadata": {},
   "outputs": [],
   "source": []
  }
 ],
 "metadata": {
  "kernelspec": {
   "display_name": "DogVision",
   "language": "python",
   "name": "python3"
  },
  "language_info": {
   "codemirror_mode": {
    "name": "ipython",
    "version": 3
   },
   "file_extension": ".py",
   "mimetype": "text/x-python",
   "name": "python",
   "nbconvert_exporter": "python",
   "pygments_lexer": "ipython3",
   "version": "3.10.9"
  },
  "orig_nbformat": 4,
  "vscode": {
   "interpreter": {
    "hash": "0e299d7626f45c36efb4e17a6e93c85d8a0b2d8b8e975a71e55100c11e0ef166"
   }
  }
 },
 "nbformat": 4,
 "nbformat_minor": 2
}
